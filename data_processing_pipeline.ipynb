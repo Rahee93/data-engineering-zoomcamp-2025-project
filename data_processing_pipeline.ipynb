{
  "nbformat": 4,
  "nbformat_minor": 0,
  "metadata": {
    "colab": {
      "provenance": [],
      "authorship_tag": "ABX9TyMg4cPDKREiq5ZO1Gl7/xjL",
      "include_colab_link": true
    },
    "kernelspec": {
      "name": "python3",
      "display_name": "Python 3"
    },
    "language_info": {
      "name": "python"
    }
  },
  "cells": [
    {
      "cell_type": "markdown",
      "metadata": {
        "id": "view-in-github",
        "colab_type": "text"
      },
      "source": [
        "<a href=\"https://colab.research.google.com/github/Rahee93/data-engineering-zoomcamp-2025-project/blob/main/data_processing_pipeline.ipynb\" target=\"_parent\"><img src=\"https://colab.research.google.com/assets/colab-badge.svg\" alt=\"Open In Colab\"/></a>"
      ]
    },
    {
      "cell_type": "code",
      "source": [
        "# Author: Ambarka Raheel\n",
        "# Data Engineer Zoomcamp Project\n",
        "# 2025-04-09\n",
        "from google.colab import drive\n",
        "drive.mount('/content/drive')\n"
      ],
      "metadata": {
        "colab": {
          "base_uri": "https://localhost:8080/"
        },
        "id": "oqJytEA3rLMk",
        "outputId": "08bbf042-a0ce-4390-c41f-b61f9000ecd8"
      },
      "execution_count": 3,
      "outputs": [
        {
          "output_type": "stream",
          "name": "stdout",
          "text": [
            "Mounted at /content/drive\n"
          ]
        }
      ]
    },
    {
      "cell_type": "code",
      "source": [
        "import os\n",
        "\n",
        "# Change this path to match where you saved it in your Drive\n",
        "file_dir = \"/content/drive/MyDrive\"\n",
        "\n",
        "# List files\n",
        "os.listdir(file_dir)\n"
      ],
      "metadata": {
        "colab": {
          "base_uri": "https://localhost:8080/"
        },
        "collapsed": true,
        "id": "CdxUwKmewh4e",
        "outputId": "e8587687-08fa-4df2-ab6e-b783e04cfc2b"
      },
      "execution_count": 4,
      "outputs": [
        {
          "output_type": "execute_result",
          "data": {
            "text/plain": [
              "['Brochure.gdoc',\n",
              " 'Lab 8.zip',\n",
              " 'Lab 7 Documents.zip',\n",
              " 'Ambarka Raheel Project_P2.zip',\n",
              " '3a3622ac-7a08-469d-873b-02f23f5018ac.pdf',\n",
              " 'ما هي قوتك الخاصة؟ What is your special power?.gdoc',\n",
              " 'Scavenger Hunt.gdoc',\n",
              " 'Untitled document (19).gdoc',\n",
              " 'Untitled document (18).gdoc',\n",
              " 'Untitled document (17).gdoc',\n",
              " 'Untitled document (16).gdoc',\n",
              " 'To-do list.gsheet',\n",
              " 'Using Data Analysis_for_Detecting fraud_final assigment.gdoc',\n",
              " 'Untitled document (15).gdoc',\n",
              " 'Tools & Technologies Used for Data Analysis-Group 7.gslides',\n",
              " 'Copy of Tools & Technologies Used for Data Analysis-Group 7.gslides',\n",
              " 'Elevator Pitch_Ambarka Raheel-self-Introduction in the interveiw .gdoc',\n",
              " 'Microsoft Azure Module2 Notes.gdoc',\n",
              " 'Copy of Group Activity: Case Study - Stress Management Template.gslides',\n",
              " 'JDA Team 2A - Group 7',\n",
              " 'second stage process for developing and implementing a plan for using generative AI is.gdoc',\n",
              " 'Untitled document (14).gdoc',\n",
              " 'Copy of Ind Activity: Goal Setting & Action Plan Template.gdoc',\n",
              " 'Copy of Ind Activity: Goal Setting & Action Plan Template Ambarka Raheel.gdoc',\n",
              " 'Copy of  Activity Business Communication .docx',\n",
              " 'Untitled document (13).gdoc',\n",
              " 'Untitled document (12).gdoc',\n",
              " 'Untitled document (11).gdoc',\n",
              " 'Untitled document (10).gdoc',\n",
              " 'Untitled document (9).gdoc',\n",
              " 'Ambarka Raheel.gdoc',\n",
              " 'Mock Interview prep.gdoc',\n",
              " 'Untitled document (8).gdoc',\n",
              " 'Untitled document (7).gdoc',\n",
              " 'Interactive Fruit Sales Dashboard.gdoc',\n",
              " 'Copy of Group7_Presentation on Plotly.gslides',\n",
              " 'Presentation Outline:.gdoc',\n",
              " 'Slide 1: Dashboards Enable Dynamic Data Visualization and Decision-Making.gdoc',\n",
              " 'Useful Resources:.gdoc',\n",
              " 'GitHub and SQLResources.gdoc',\n",
              " 'Untitled document (6).gdoc',\n",
              " 'IMG_0434.jpg',\n",
              " 'Untitled document (5).gdoc',\n",
              " 'قصة الكعكة الكبيرة.pdf',\n",
              " 'قصة أنا عربي.pdf',\n",
              " 'Untitled document (4).gdoc',\n",
              " 'Untitled document (3).gdoc',\n",
              " 'Untitled document (2).gdoc',\n",
              " 'Classroom',\n",
              " 'Colab Notebooks',\n",
              " 'BookStoreERD.drawio',\n",
              " 'IMG_1425.JPG',\n",
              " 'Untitled document (1).gdoc',\n",
              " 'Weekly Learning Reflection_1.gdoc',\n",
              " 'Untitled document.gdoc',\n",
              " \"Covey's time quadrants   Expectations vs. Reality.gdoc\",\n",
              " 'Untitled Diagram.drawio',\n",
              " 'ER Diagram_Midterm_AmbarkaRaheel.drawio.png',\n",
              " 'Reflection of_Jan-Mar 2025.gdoc',\n",
              " 'US_Accidents_March23.csv']"
            ]
          },
          "metadata": {},
          "execution_count": 4
        }
      ]
    },
    {
      "cell_type": "code",
      "source": [
        "import pandas as pd  # Import the pandas library for data manipulation\n",
        "# Load just a sample of the large CSV to avoid memory crash\n",
        "# This helps us explore the dataset without loading the whole thing\n",
        "df = pd.read_csv('/content/drive/MyDrive/US_Accidents_March23.csv', nrows=100000)\n",
        "\n",
        "# Show shape of the sample\n",
        "print(\"Sample shape (rows, columns):\", df.shape)\n"
      ],
      "metadata": {
        "colab": {
          "base_uri": "https://localhost:8080/"
        },
        "id": "d2UIyH6fzUUJ",
        "outputId": "dd8a892d-2ea2-4ab3-c73d-4151fd86e65c"
      },
      "execution_count": 5,
      "outputs": [
        {
          "output_type": "stream",
          "name": "stdout",
          "text": [
            "Sample shape (rows, columns): (100000, 46)\n"
          ]
        }
      ]
    },
    {
      "cell_type": "code",
      "source": [
        "# Define the size of each chunk you want to load into memory at a time\n",
        "chunk_size = 500000  # Can be increased or decreased based on the system's capacity\n",
        "\n",
        "# Read the CSV file in chunks to prevent memory overload\n",
        "chunks = pd.read_csv('/content/drive/MyDrive/US_Accidents_March23.csv', chunksize=chunk_size)\n",
        "\n",
        "\n",
        "# Load only the first chunk into memory for now\n",
        "df_chunk = next(chunks)\n",
        "\n",
        "# Check the size of the loaded chunk\n",
        "print(\"First chunk shape:\", df_chunk.shape)\n"
      ],
      "metadata": {
        "colab": {
          "base_uri": "https://localhost:8080/"
        },
        "id": "-usxcZeEzc00",
        "outputId": "3559f715-800e-41ec-8a14-f185ed74ca12"
      },
      "execution_count": 6,
      "outputs": [
        {
          "output_type": "stream",
          "name": "stdout",
          "text": [
            "First chunk shape: (500000, 46)\n"
          ]
        }
      ]
    },
    {
      "cell_type": "code",
      "source": [
        "# Select only spicific columns\n",
        "selected_columns = ['ID', 'Start_Time', 'End_Time', 'Severity', 'State', 'City', 'Weather_Condition']\n",
        "\n",
        "# Load only these selected columns from the dataset to save memory\n",
        "df = pd.read_csv('/content/drive/MyDrive/US_Accidents_March23.csv', usecols=selected_columns)\n",
        "\n",
        "# Show shape of the loaded data\n",
        "print(\"Filtered data shape:\", df.shape)"
      ],
      "metadata": {
        "colab": {
          "base_uri": "https://localhost:8080/"
        },
        "id": "1Y3fbbcvznwU",
        "outputId": "a56d5c65-bdb2-4ca1-bda9-d0410e6a6665"
      },
      "execution_count": 7,
      "outputs": [
        {
          "output_type": "stream",
          "name": "stdout",
          "text": [
            "Filtered data shape: (7728394, 7)\n"
          ]
        }
      ]
    },
    {
      "cell_type": "code",
      "source": [
        "# Display the first few rows to understand the structure of the dataset\n",
        "df.head()"
      ],
      "metadata": {
        "colab": {
          "base_uri": "https://localhost:8080/",
          "height": 293
        },
        "id": "8zbuuX4F1OXk",
        "outputId": "551076d8-00c7-4fd5-dea5-f92ed0cd223d"
      },
      "execution_count": 8,
      "outputs": [
        {
          "output_type": "execute_result",
          "data": {
            "text/plain": [
              "    ID  Severity           Start_Time             End_Time          City  \\\n",
              "0  A-1         3  2016-02-08 05:46:00  2016-02-08 11:00:00        Dayton   \n",
              "1  A-2         2  2016-02-08 06:07:59  2016-02-08 06:37:59  Reynoldsburg   \n",
              "2  A-3         2  2016-02-08 06:49:27  2016-02-08 07:19:27  Williamsburg   \n",
              "3  A-4         3  2016-02-08 07:23:34  2016-02-08 07:53:34        Dayton   \n",
              "4  A-5         2  2016-02-08 07:39:07  2016-02-08 08:09:07        Dayton   \n",
              "\n",
              "  State Weather_Condition  \n",
              "0    OH        Light Rain  \n",
              "1    OH        Light Rain  \n",
              "2    OH          Overcast  \n",
              "3    OH     Mostly Cloudy  \n",
              "4    OH     Mostly Cloudy  "
            ],
            "text/html": [
              "\n",
              "  <div id=\"df-17574002-d731-4799-918e-1fe1183896dd\" class=\"colab-df-container\">\n",
              "    <div>\n",
              "<style scoped>\n",
              "    .dataframe tbody tr th:only-of-type {\n",
              "        vertical-align: middle;\n",
              "    }\n",
              "\n",
              "    .dataframe tbody tr th {\n",
              "        vertical-align: top;\n",
              "    }\n",
              "\n",
              "    .dataframe thead th {\n",
              "        text-align: right;\n",
              "    }\n",
              "</style>\n",
              "<table border=\"1\" class=\"dataframe\">\n",
              "  <thead>\n",
              "    <tr style=\"text-align: right;\">\n",
              "      <th></th>\n",
              "      <th>ID</th>\n",
              "      <th>Severity</th>\n",
              "      <th>Start_Time</th>\n",
              "      <th>End_Time</th>\n",
              "      <th>City</th>\n",
              "      <th>State</th>\n",
              "      <th>Weather_Condition</th>\n",
              "    </tr>\n",
              "  </thead>\n",
              "  <tbody>\n",
              "    <tr>\n",
              "      <th>0</th>\n",
              "      <td>A-1</td>\n",
              "      <td>3</td>\n",
              "      <td>2016-02-08 05:46:00</td>\n",
              "      <td>2016-02-08 11:00:00</td>\n",
              "      <td>Dayton</td>\n",
              "      <td>OH</td>\n",
              "      <td>Light Rain</td>\n",
              "    </tr>\n",
              "    <tr>\n",
              "      <th>1</th>\n",
              "      <td>A-2</td>\n",
              "      <td>2</td>\n",
              "      <td>2016-02-08 06:07:59</td>\n",
              "      <td>2016-02-08 06:37:59</td>\n",
              "      <td>Reynoldsburg</td>\n",
              "      <td>OH</td>\n",
              "      <td>Light Rain</td>\n",
              "    </tr>\n",
              "    <tr>\n",
              "      <th>2</th>\n",
              "      <td>A-3</td>\n",
              "      <td>2</td>\n",
              "      <td>2016-02-08 06:49:27</td>\n",
              "      <td>2016-02-08 07:19:27</td>\n",
              "      <td>Williamsburg</td>\n",
              "      <td>OH</td>\n",
              "      <td>Overcast</td>\n",
              "    </tr>\n",
              "    <tr>\n",
              "      <th>3</th>\n",
              "      <td>A-4</td>\n",
              "      <td>3</td>\n",
              "      <td>2016-02-08 07:23:34</td>\n",
              "      <td>2016-02-08 07:53:34</td>\n",
              "      <td>Dayton</td>\n",
              "      <td>OH</td>\n",
              "      <td>Mostly Cloudy</td>\n",
              "    </tr>\n",
              "    <tr>\n",
              "      <th>4</th>\n",
              "      <td>A-5</td>\n",
              "      <td>2</td>\n",
              "      <td>2016-02-08 07:39:07</td>\n",
              "      <td>2016-02-08 08:09:07</td>\n",
              "      <td>Dayton</td>\n",
              "      <td>OH</td>\n",
              "      <td>Mostly Cloudy</td>\n",
              "    </tr>\n",
              "  </tbody>\n",
              "</table>\n",
              "</div>\n",
              "    <div class=\"colab-df-buttons\">\n",
              "\n",
              "  <div class=\"colab-df-container\">\n",
              "    <button class=\"colab-df-convert\" onclick=\"convertToInteractive('df-17574002-d731-4799-918e-1fe1183896dd')\"\n",
              "            title=\"Convert this dataframe to an interactive table.\"\n",
              "            style=\"display:none;\">\n",
              "\n",
              "  <svg xmlns=\"http://www.w3.org/2000/svg\" height=\"24px\" viewBox=\"0 -960 960 960\">\n",
              "    <path d=\"M120-120v-720h720v720H120Zm60-500h600v-160H180v160Zm220 220h160v-160H400v160Zm0 220h160v-160H400v160ZM180-400h160v-160H180v160Zm440 0h160v-160H620v160ZM180-180h160v-160H180v160Zm440 0h160v-160H620v160Z\"/>\n",
              "  </svg>\n",
              "    </button>\n",
              "\n",
              "  <style>\n",
              "    .colab-df-container {\n",
              "      display:flex;\n",
              "      gap: 12px;\n",
              "    }\n",
              "\n",
              "    .colab-df-convert {\n",
              "      background-color: #E8F0FE;\n",
              "      border: none;\n",
              "      border-radius: 50%;\n",
              "      cursor: pointer;\n",
              "      display: none;\n",
              "      fill: #1967D2;\n",
              "      height: 32px;\n",
              "      padding: 0 0 0 0;\n",
              "      width: 32px;\n",
              "    }\n",
              "\n",
              "    .colab-df-convert:hover {\n",
              "      background-color: #E2EBFA;\n",
              "      box-shadow: 0px 1px 2px rgba(60, 64, 67, 0.3), 0px 1px 3px 1px rgba(60, 64, 67, 0.15);\n",
              "      fill: #174EA6;\n",
              "    }\n",
              "\n",
              "    .colab-df-buttons div {\n",
              "      margin-bottom: 4px;\n",
              "    }\n",
              "\n",
              "    [theme=dark] .colab-df-convert {\n",
              "      background-color: #3B4455;\n",
              "      fill: #D2E3FC;\n",
              "    }\n",
              "\n",
              "    [theme=dark] .colab-df-convert:hover {\n",
              "      background-color: #434B5C;\n",
              "      box-shadow: 0px 1px 3px 1px rgba(0, 0, 0, 0.15);\n",
              "      filter: drop-shadow(0px 1px 2px rgba(0, 0, 0, 0.3));\n",
              "      fill: #FFFFFF;\n",
              "    }\n",
              "  </style>\n",
              "\n",
              "    <script>\n",
              "      const buttonEl =\n",
              "        document.querySelector('#df-17574002-d731-4799-918e-1fe1183896dd button.colab-df-convert');\n",
              "      buttonEl.style.display =\n",
              "        google.colab.kernel.accessAllowed ? 'block' : 'none';\n",
              "\n",
              "      async function convertToInteractive(key) {\n",
              "        const element = document.querySelector('#df-17574002-d731-4799-918e-1fe1183896dd');\n",
              "        const dataTable =\n",
              "          await google.colab.kernel.invokeFunction('convertToInteractive',\n",
              "                                                    [key], {});\n",
              "        if (!dataTable) return;\n",
              "\n",
              "        const docLinkHtml = 'Like what you see? Visit the ' +\n",
              "          '<a target=\"_blank\" href=https://colab.research.google.com/notebooks/data_table.ipynb>data table notebook</a>'\n",
              "          + ' to learn more about interactive tables.';\n",
              "        element.innerHTML = '';\n",
              "        dataTable['output_type'] = 'display_data';\n",
              "        await google.colab.output.renderOutput(dataTable, element);\n",
              "        const docLink = document.createElement('div');\n",
              "        docLink.innerHTML = docLinkHtml;\n",
              "        element.appendChild(docLink);\n",
              "      }\n",
              "    </script>\n",
              "  </div>\n",
              "\n",
              "\n",
              "<div id=\"df-c656b582-9697-4bbc-94e6-5460a9c20497\">\n",
              "  <button class=\"colab-df-quickchart\" onclick=\"quickchart('df-c656b582-9697-4bbc-94e6-5460a9c20497')\"\n",
              "            title=\"Suggest charts\"\n",
              "            style=\"display:none;\">\n",
              "\n",
              "<svg xmlns=\"http://www.w3.org/2000/svg\" height=\"24px\"viewBox=\"0 0 24 24\"\n",
              "     width=\"24px\">\n",
              "    <g>\n",
              "        <path d=\"M19 3H5c-1.1 0-2 .9-2 2v14c0 1.1.9 2 2 2h14c1.1 0 2-.9 2-2V5c0-1.1-.9-2-2-2zM9 17H7v-7h2v7zm4 0h-2V7h2v10zm4 0h-2v-4h2v4z\"/>\n",
              "    </g>\n",
              "</svg>\n",
              "  </button>\n",
              "\n",
              "<style>\n",
              "  .colab-df-quickchart {\n",
              "      --bg-color: #E8F0FE;\n",
              "      --fill-color: #1967D2;\n",
              "      --hover-bg-color: #E2EBFA;\n",
              "      --hover-fill-color: #174EA6;\n",
              "      --disabled-fill-color: #AAA;\n",
              "      --disabled-bg-color: #DDD;\n",
              "  }\n",
              "\n",
              "  [theme=dark] .colab-df-quickchart {\n",
              "      --bg-color: #3B4455;\n",
              "      --fill-color: #D2E3FC;\n",
              "      --hover-bg-color: #434B5C;\n",
              "      --hover-fill-color: #FFFFFF;\n",
              "      --disabled-bg-color: #3B4455;\n",
              "      --disabled-fill-color: #666;\n",
              "  }\n",
              "\n",
              "  .colab-df-quickchart {\n",
              "    background-color: var(--bg-color);\n",
              "    border: none;\n",
              "    border-radius: 50%;\n",
              "    cursor: pointer;\n",
              "    display: none;\n",
              "    fill: var(--fill-color);\n",
              "    height: 32px;\n",
              "    padding: 0;\n",
              "    width: 32px;\n",
              "  }\n",
              "\n",
              "  .colab-df-quickchart:hover {\n",
              "    background-color: var(--hover-bg-color);\n",
              "    box-shadow: 0 1px 2px rgba(60, 64, 67, 0.3), 0 1px 3px 1px rgba(60, 64, 67, 0.15);\n",
              "    fill: var(--button-hover-fill-color);\n",
              "  }\n",
              "\n",
              "  .colab-df-quickchart-complete:disabled,\n",
              "  .colab-df-quickchart-complete:disabled:hover {\n",
              "    background-color: var(--disabled-bg-color);\n",
              "    fill: var(--disabled-fill-color);\n",
              "    box-shadow: none;\n",
              "  }\n",
              "\n",
              "  .colab-df-spinner {\n",
              "    border: 2px solid var(--fill-color);\n",
              "    border-color: transparent;\n",
              "    border-bottom-color: var(--fill-color);\n",
              "    animation:\n",
              "      spin 1s steps(1) infinite;\n",
              "  }\n",
              "\n",
              "  @keyframes spin {\n",
              "    0% {\n",
              "      border-color: transparent;\n",
              "      border-bottom-color: var(--fill-color);\n",
              "      border-left-color: var(--fill-color);\n",
              "    }\n",
              "    20% {\n",
              "      border-color: transparent;\n",
              "      border-left-color: var(--fill-color);\n",
              "      border-top-color: var(--fill-color);\n",
              "    }\n",
              "    30% {\n",
              "      border-color: transparent;\n",
              "      border-left-color: var(--fill-color);\n",
              "      border-top-color: var(--fill-color);\n",
              "      border-right-color: var(--fill-color);\n",
              "    }\n",
              "    40% {\n",
              "      border-color: transparent;\n",
              "      border-right-color: var(--fill-color);\n",
              "      border-top-color: var(--fill-color);\n",
              "    }\n",
              "    60% {\n",
              "      border-color: transparent;\n",
              "      border-right-color: var(--fill-color);\n",
              "    }\n",
              "    80% {\n",
              "      border-color: transparent;\n",
              "      border-right-color: var(--fill-color);\n",
              "      border-bottom-color: var(--fill-color);\n",
              "    }\n",
              "    90% {\n",
              "      border-color: transparent;\n",
              "      border-bottom-color: var(--fill-color);\n",
              "    }\n",
              "  }\n",
              "</style>\n",
              "\n",
              "  <script>\n",
              "    async function quickchart(key) {\n",
              "      const quickchartButtonEl =\n",
              "        document.querySelector('#' + key + ' button');\n",
              "      quickchartButtonEl.disabled = true;  // To prevent multiple clicks.\n",
              "      quickchartButtonEl.classList.add('colab-df-spinner');\n",
              "      try {\n",
              "        const charts = await google.colab.kernel.invokeFunction(\n",
              "            'suggestCharts', [key], {});\n",
              "      } catch (error) {\n",
              "        console.error('Error during call to suggestCharts:', error);\n",
              "      }\n",
              "      quickchartButtonEl.classList.remove('colab-df-spinner');\n",
              "      quickchartButtonEl.classList.add('colab-df-quickchart-complete');\n",
              "    }\n",
              "    (() => {\n",
              "      let quickchartButtonEl =\n",
              "        document.querySelector('#df-c656b582-9697-4bbc-94e6-5460a9c20497 button');\n",
              "      quickchartButtonEl.style.display =\n",
              "        google.colab.kernel.accessAllowed ? 'block' : 'none';\n",
              "    })();\n",
              "  </script>\n",
              "</div>\n",
              "\n",
              "    </div>\n",
              "  </div>\n"
            ],
            "application/vnd.google.colaboratory.intrinsic+json": {
              "type": "dataframe",
              "variable_name": "df"
            }
          },
          "metadata": {},
          "execution_count": 8
        }
      ]
    },
    {
      "cell_type": "code",
      "source": [
        "# Check number of rows and columns\n",
        "print(\"Dataset shape:\", df.shape)\n",
        "\n",
        "# Check data types and non-null counts\n",
        "df.info()"
      ],
      "metadata": {
        "colab": {
          "base_uri": "https://localhost:8080/"
        },
        "id": "TADufT_-1VrS",
        "outputId": "fb886cd6-2ee6-4dca-a18d-89e21baa54b2"
      },
      "execution_count": 9,
      "outputs": [
        {
          "output_type": "stream",
          "name": "stdout",
          "text": [
            "Dataset shape: (7728394, 7)\n",
            "<class 'pandas.core.frame.DataFrame'>\n",
            "RangeIndex: 7728394 entries, 0 to 7728393\n",
            "Data columns (total 7 columns):\n",
            " #   Column             Dtype \n",
            "---  ------             ----- \n",
            " 0   ID                 object\n",
            " 1   Severity           int64 \n",
            " 2   Start_Time         object\n",
            " 3   End_Time           object\n",
            " 4   City               object\n",
            " 5   State              object\n",
            " 6   Weather_Condition  object\n",
            "dtypes: int64(1), object(6)\n",
            "memory usage: 412.7+ MB\n"
          ]
        }
      ]
    },
    {
      "cell_type": "code",
      "source": [
        "# See which columns have missing data\n",
        "missing = df.isnull().sum()\n",
        "missing = missing[missing > 0].sort_values(ascending=False)\n",
        "print(\"Columns with missing values:\\n\", missing)"
      ],
      "metadata": {
        "colab": {
          "base_uri": "https://localhost:8080/"
        },
        "id": "y1hoiwXi1er5",
        "outputId": "48711f5d-4a1f-49e8-f9aa-2452c9f2b0ca"
      },
      "execution_count": 10,
      "outputs": [
        {
          "output_type": "stream",
          "name": "stdout",
          "text": [
            "Columns with missing values:\n",
            " Weather_Condition    173459\n",
            "City                    253\n",
            "dtype: int64\n"
          ]
        }
      ]
    },
    {
      "cell_type": "code",
      "source": [
        "# Drop rows where either 'City' or 'Weather_Condition' is missing\n",
        "df = df.dropna(subset=['City', 'Weather_Condition'])\n",
        "\n",
        "# Check shape again\n",
        "print(\"Shape after dropping rows with missing values:\", df.shape)\n"
      ],
      "metadata": {
        "colab": {
          "base_uri": "https://localhost:8080/"
        },
        "id": "hgeN6SCJ10bT",
        "outputId": "fc87426a-5058-44ea-8892-e2843f761cd1"
      },
      "execution_count": 11,
      "outputs": [
        {
          "output_type": "stream",
          "name": "stdout",
          "text": [
            "Shape after dropping rows with missing values: (7554693, 7)\n"
          ]
        }
      ]
    },
    {
      "cell_type": "code",
      "source": [
        "# Remove duplicates to ensure clean data\n",
        "df = df.drop_duplicates()\n",
        "\n",
        "print(\"Shape after dropping duplicates:\", df.shape)\n"
      ],
      "metadata": {
        "colab": {
          "base_uri": "https://localhost:8080/"
        },
        "id": "LPcjt0rq2kyo",
        "outputId": "5292f291-7e0f-4081-c3bb-8de0fd144e85"
      },
      "execution_count": 12,
      "outputs": [
        {
          "output_type": "stream",
          "name": "stdout",
          "text": [
            "Shape after dropping duplicates: (7554693, 7)\n"
          ]
        }
      ]
    },
    {
      "cell_type": "code",
      "source": [
        "# Convert 'Start_Time' and 'End_Time' to datetime format, handling milliseconds\n",
        "df['Start_Time'] = pd.to_datetime(df['Start_Time'], format='%Y-%m-%d %H:%M:%S.%f', errors='coerce')\n",
        "df['End_Time'] = pd.to_datetime(df['End_Time'], format='%Y-%m-%d %H:%M:%S.%f', errors='coerce')\n",
        "\n",
        "# Create a new column for accident duration in minutes\n",
        "df['Duration_Minutes'] = (df['End_Time'] - df['Start_Time']).dt.total_seconds() / 60.0\n"
      ],
      "metadata": {
        "id": "Fpz5pbKC2tmH"
      },
      "execution_count": 13,
      "outputs": []
    },
    {
      "cell_type": "code",
      "source": [
        "# See types of columns and non-null counts\n",
        "df.info()\n",
        "\n",
        "# Summary statistics (numerical columns)\n",
        "df.describe()\n",
        "\n",
        "# Check for duplicates\n",
        "print(\"Duplicates:\", df.duplicated().sum())"
      ],
      "metadata": {
        "colab": {
          "base_uri": "https://localhost:8080/"
        },
        "id": "DiDS8S343kU-",
        "outputId": "8c70cdfa-707f-495c-b87f-b3ab75cbd587"
      },
      "execution_count": 14,
      "outputs": [
        {
          "output_type": "stream",
          "name": "stdout",
          "text": [
            "<class 'pandas.core.frame.DataFrame'>\n",
            "Index: 7554693 entries, 0 to 7728393\n",
            "Data columns (total 8 columns):\n",
            " #   Column             Dtype         \n",
            "---  ------             -----         \n",
            " 0   ID                 object        \n",
            " 1   Severity           int64         \n",
            " 2   Start_Time         datetime64[ns]\n",
            " 3   End_Time           datetime64[ns]\n",
            " 4   City               object        \n",
            " 5   State              object        \n",
            " 6   Weather_Condition  object        \n",
            " 7   Duration_Minutes   float64       \n",
            "dtypes: datetime64[ns](2), float64(1), int64(1), object(4)\n",
            "memory usage: 518.7+ MB\n",
            "Duplicates: 0\n"
          ]
        }
      ]
    },
    {
      "cell_type": "code",
      "source": [
        "import matplotlib.pyplot as plt  # Import the pyplot module for plotting\n",
        "\n",
        "\n",
        "# Get the top 10 cities with the most accidents\n",
        "top_cities = df['City'].value_counts().head(10)\n",
        "\n",
        "# Create a horizontal bar plot\n",
        "top_cities.plot(\n",
        "    kind='barh',  # Specify the plot type as horizontal bar plot\n",
        "    title='Top 10 Cities with Most Accidents',  # Set the title of the plot\n",
        "    color='skyblue'  # Set the color of the bars\n",
        ")\n",
        "\n",
        "# Add labels and customize the plot\n",
        "plt.xlabel('Number of Accidents')  # Label the x-axis\n",
        "plt.gca().invert_yaxis()  # Invert the y-axis to show the city with the most accidents at the top\n",
        "plt.show()  # Display the plot"
      ],
      "metadata": {
        "colab": {
          "base_uri": "https://localhost:8080/",
          "height": 472
        },
        "id": "pIpuCErX3pQ2",
        "outputId": "e08e216f-3c3d-456e-f3e4-c6436096d004"
      },
      "execution_count": 15,
      "outputs": [
        {
          "output_type": "display_data",
          "data": {
            "text/plain": [
              "<Figure size 640x480 with 1 Axes>"
            ],
            "image/png": "[encoded data removed]"
          },
          "metadata": {}
        }
      ]
    },
    {
      "cell_type": "code",
      "source": [
        "# Convert the 'Start_Time' column to datetime objects if it's not already\n",
        "df['Start_Time'] = pd.to_datetime(df['Start_Time'])\n",
        "\n",
        "# Extract the hour of the day from the 'Start_Time' and create a new 'Hour' column\n",
        "df['Hour'] = df['Start_Time'].dt.hour\n",
        "\n",
        "# Extract the day of the week (0=Monday, 6=Sunday) and create a new 'DayOfWeek' column\n",
        "df['DayOfWeek'] = df['Start_Time'].dt.dayofweek  # 0=Monday\n",
        "\n",
        "# Extract the month and create a new 'Month' column\n",
        "df['Month'] = df['Start_Time'].dt.month\n"
      ],
      "metadata": {
        "id": "sIBjsTmj4Xtq"
      },
      "execution_count": 16,
      "outputs": []
    },
    {
      "cell_type": "code",
      "source": [
        "# Accidents by hour of day\n",
        "# Display the plot using `plt.show()`\n",
        "df['Hour'].value_counts().sort_index().plot(kind='bar', title='Accidents by Hour')\n",
        "plt.xlabel('Hour of Day')\n",
        "plt.ylabel('Number of Accidents')\n",
        "plt.show()\n",
        "\n",
        "# Accidents by day of week\n",
        "# Create a list of day labels for the plot: Monday to Sunday\n",
        "day_labels = ['Mon', 'Tue', 'Wed', 'Thu', 'Fri', 'Sat', 'Sun']\n",
        "\n",
        "# 1. Create a bar plot of the accident counts per day using `plot(kind='bar')`\n",
        "# 2. Set the title of the plot to 'Accidents by Day of Week'\n",
        "# 3. Set the color of the bars to orange\n",
        "df['DayOfWeek'].value_counts().sort_index().plot(kind='bar', title='Accidents by Day of Week', color='orange')\n",
        "\n",
        "# Set the x-axis ticks to represent the days of the week (0-6) and label them with the `day_labels` list\n",
        "plt.xticks(ticks=range(7), labels=day_labels)\n",
        "\n",
        "# Label the y-axis as 'Number of Accidents'\n",
        "plt.ylabel('Number of Accidents')\n",
        "plt.show() # Display the plot using `plt.show()`"
      ],
      "metadata": {
        "colab": {
          "base_uri": "https://localhost:8080/",
          "height": 960
        },
        "id": "Cmnr4mpY4sdM",
        "outputId": "ceae02a9-7bb0-4793-c299-9bed71488e3a"
      },
      "execution_count": 17,
      "outputs": [
        {
          "output_type": "display_data",
          "data": {
            "text/plain": [
              "<Figure size 640x480 with 1 Axes>"
            ],
            "image/png": "[encoded data removed]"
          },
          "metadata": {}
        },
        {
          "output_type": "display_data",
          "data": {
            "text/plain": [
              "<Figure size 640x480 with 1 Axes>"
            ],
            "image/png": "[encoded data removed]"
          },
          "metadata": {}
        }
      ]
    },
    {
      "cell_type": "code",
      "source": [
        "# Count occurrences of each weather condition and get the top 10\n",
        "weather_counts = df['Weather_Condition'].value_counts().head(10)\n",
        "\n",
        "# Create a bar plot of the top 10 weather conditions\n",
        "weather_counts.plot(kind='bar', color='lightgreen')\n",
        "\n",
        "# Set the title of the plot\n",
        "plt.title(\"Top Weather Conditions During Accidents\")\n",
        "\n",
        "# Label the y-axis\n",
        "plt.ylabel(\"Number of Accidents\")\n",
        "\n",
        "# Rotate x-axis labels for better readability\n",
        "plt.xticks(rotation=45)\n",
        "\n",
        "# Display the plot\n",
        "plt.show()\n"
      ],
      "metadata": {
        "colab": {
          "base_uri": "https://localhost:8080/",
          "height": 552
        },
        "id": "e-oYITnJ6HfX",
        "outputId": "b256af9f-29a4-4bed-848a-a2b65c70d0aa"
      },
      "execution_count": 18,
      "outputs": [
        {
          "output_type": "display_data",
          "data": {
            "text/plain": [
              "<Figure size 640x480 with 1 Axes>"
            ],
            "image/png": "[encoded data removed]"
          },
          "metadata": {}
        }
      ]
    },
    {
      "cell_type": "code",
      "source": [
        "# Create a bar plot to visualize the distribution of accident severity\n",
        "df['Severity'].value_counts().sort_index().plot(kind='bar', color='salmon')\n",
        "\n",
        "# Set the title of the plot\n",
        "plt.title(\"Distribution of Accident Severity\")\n",
        "\n",
        "# Label the x-axis and explain the severity levels\n",
        "plt.xlabel(\"Severity (1 = least severe, 4 = most severe)\")\n",
        "\n",
        "# Label the y-axis to show the count of accidents\n",
        "plt.ylabel(\"Number of Accidents\")\n",
        "\n",
        "# Display the plot\n",
        "plt.show()"
      ],
      "metadata": {
        "colab": {
          "base_uri": "https://localhost:8080/",
          "height": 467
        },
        "id": "UTNlpYwW6gj0",
        "outputId": "fe9c5d23-f07b-464e-e9c6-0b8e652891a2"
      },
      "execution_count": 19,
      "outputs": [
        {
          "output_type": "display_data",
          "data": {
            "text/plain": [
              "<Figure size 640x480 with 1 Axes>"
            ],
            "image/png": "[encoded data removed]"
          },
          "metadata": {}
        }
      ]
    },
    {
      "cell_type": "code",
      "source": [
        "#Saving my cleaned data into cleaned_accidents.csv file\n",
        "df.to_csv('cleaned_accidents.csv', index=False)\n"
      ],
      "metadata": {
        "id": "USlJEqCi_JD9"
      },
      "execution_count": 20,
      "outputs": []
    },
    {
      "cell_type": "code",
      "source": [
        "import os\n",
        "os.listdir()\n"
      ],
      "metadata": {
        "colab": {
          "base_uri": "https://localhost:8080/"
        },
        "id": "Z4sbBU2e9PHw",
        "outputId": "730e8014-dd26-446e-adae-395ac6134e36"
      },
      "execution_count": 31,
      "outputs": [
        {
          "output_type": "execute_result",
          "data": {
            "text/plain": [
              "['.config', 'cleaned_accidents.csv', 'drive', 'sample_data']"
            ]
          },
          "metadata": {},
          "execution_count": 31
        }
      ]
    },
    {
      "cell_type": "code",
      "source": [
        "# Import the Google Cloud Storage library\n",
        "from google.cloud import storage\n",
        "\n",
        "# Create a client object to interact with Google Cloud Storage\n",
        "client = storage.Client()\n",
        "\n",
        "# Get a reference to the specific bucket where the file will be uploaded\n",
        "# Replace 'final_project_raheel' with your actual bucket name\n",
        "bucket = client.bucket('final_project_raheel')\n",
        "\n",
        "# Create a blob object representing the file to be uploaded\n",
        "# 'cleaned_accidents.csv' is the name of the file in the bucket\n",
        "blob = bucket.blob('cleaned_accidents.csv')\n",
        "\n",
        "# Upload the local file 'cleaned_accidents.csv' to the bucket\n",
        "blob.upload_from_filename('cleaned_accidents.csv')\n",
        "\n",
        "# Print a message to confirm the successful upload\n",
        "print(\"Upload successful\")\n"
      ],
      "metadata": {
        "colab": {
          "base_uri": "https://localhost:8080/"
        },
        "id": "UdO0_TOv8AhA",
        "outputId": "62998c6f-0927-4f4c-c7e0-bcea52cc2684"
      },
      "execution_count": 21,
      "outputs": [
        {
          "output_type": "stream",
          "name": "stdout",
          "text": [
            "Upload successful\n"
          ]
        }
      ]
    },
    {
      "cell_type": "code",
      "source": [
        "# Import necessary libraries for Google Colab authentication and BigQuery\n",
        "from google.colab import auth\n",
        "from google.cloud import bigquery\n",
        "\n",
        "# Authenticate the user to access Google Cloud resources\n",
        "auth.authenticate_user()\n",
        "\n",
        "# **1. Set up BigQuery Client**\n",
        "project_id = 'myproject-451914' # Define the project ID\n",
        "# Create a BigQuery client object\n",
        "bq_client = bigquery.Client(project=project_id)\n",
        "\n",
        "# **2. Define dataset and table details**\n",
        "dataset_id = f\"{project_id}.traffic_data\"\n",
        "# Specify the table name where data will be loaded\n",
        "table_id = 'cleaned_accidents'\n",
        "\n",
        "# **3. Configure the load job**\n",
        "# Create a LoadJobConfig object with settings for loading data\n",
        "job_config = bigquery.LoadJobConfig(\n",
        "    source_format=bigquery.SourceFormat.CSV,  # Specify the source file format as CSV\n",
        "    autodetect=True  # Enable automatic schema detection from the CSV file\n",
        ")\n",
        "\n",
        "# **4. Load the data into BigQuery**\n",
        "# Open the local CSV file ('cleaned_accidents.csv') in read binary ('rb') mode\n",
        "with open('cleaned_accidents.csv', 'rb') as source_file:\n",
        "    # Create a load job to load data from the file into the BigQuery table\n",
        "    load_job = bq_client.load_table_from_file(\n",
        "        source_file,  # The source file to load data from\n",
        "        f\"{dataset_id}.{table_id}\",  # The destination BigQuery table (dataset.table)\n",
        "        job_config=job_config  # Apply the load job configuration\n",
        "    )\n",
        "\n",
        "# **5. Wait for the job to complete and print confirmation**\n",
        "load_job.result()  # Wait for the load job to finish\n",
        "print(\"Table loaded successfully\")  # Print a message upon successful completion"
      ],
      "metadata": {
        "colab": {
          "base_uri": "https://localhost:8080/"
        },
        "id": "HlqCgP1FIu0X",
        "outputId": "a38c1b57-16e0-4b67-b9ae-b1ed057e7311"
      },
      "execution_count": 22,
      "outputs": [
        {
          "output_type": "stream",
          "name": "stdout",
          "text": [
            "Table loaded successfully\n"
          ]
        }
      ]
    }
  ]
}